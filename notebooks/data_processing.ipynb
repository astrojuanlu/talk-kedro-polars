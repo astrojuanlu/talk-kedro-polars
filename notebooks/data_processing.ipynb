{
 "cells": [
  {
   "attachments": {},
   "cell_type": "markdown",
   "metadata": {},
   "source": [
    "You could load the catalog manually like this:\n",
    "\n",
    "```python\n",
    "import polars as pl\n",
    "\n",
    "from kedro.config import ConfigLoader\n",
    "from kedro.io import DataCatalog\n",
    "\n",
    "conf_loader = ConfigLoader(\"../conf\")\n",
    "conf_catalog = conf_loader.get(\"catalog.yml\")\n",
    "catalog = DataCatalog.from_config(conf_catalog)\n",
    "```\n",
    "\n",
    "but using the `kedro.ipython` extension performs some extra magic for convenience:"
   ]
  },
  {
   "cell_type": "code",
   "execution_count": null,
   "metadata": {},
   "outputs": [],
   "source": [
    "%load_ext kedro.ipython"
   ]
  },
  {
   "cell_type": "code",
   "execution_count": null,
   "metadata": {},
   "outputs": [],
   "source": [
    "import polars as pl"
   ]
  },
  {
   "cell_type": "code",
   "execution_count": null,
   "metadata": {},
   "outputs": [],
   "source": [
    "df = catalog.load(\"openrepair-0_3-events-raw\")\n",
    "df.head()"
   ]
  },
  {
   "cell_type": "code",
   "execution_count": null,
   "metadata": {},
   "outputs": [],
   "source": [
    "categories = catalog.load(\"openrepair-0_3-categories\")\n",
    "categories.head()"
   ]
  },
  {
   "cell_type": "code",
   "execution_count": null,
   "metadata": {},
   "outputs": [],
   "source": [
    "df_clean = (\n",
    "    df.select(pl.all().exclude(\"product_category\"))\n",
    "    .join(categories, on=\"product_category_id\")\n",
    "    .with_columns(\n",
    "        pl.col(\"repair_barrier_if_end_of_life\").map_dict(\n",
    "            {\"Item too worn out\": \"Product too worn out\"},\n",
    "            default=pl.col(\"repair_barrier_if_end_of_life\"),\n",
    "        )\n",
    "    )\n",
    ")\n",
    "df_clean"
   ]
  },
  {
   "cell_type": "code",
   "execution_count": null,
   "metadata": {},
   "outputs": [],
   "source": [
    "catalog.save(\"openrepair-0_3-events\", df_clean)"
   ]
  }
 ],
 "metadata": {
  "kernelspec": {
   "display_name": "Python 3",
   "language": "python",
   "name": "python3"
  },
  "language_info": {
   "codemirror_mode": {
    "name": "ipython",
    "version": 3
   },
   "file_extension": ".py",
   "mimetype": "text/x-python",
   "name": "python",
   "nbconvert_exporter": "python",
   "pygments_lexer": "ipython3",
   "version": "3.10.9"
  },
  "orig_nbformat": 4
 },
 "nbformat": 4,
 "nbformat_minor": 2
}
