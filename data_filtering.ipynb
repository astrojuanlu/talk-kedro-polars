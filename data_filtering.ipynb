{
 "cells": [
  {
   "cell_type": "markdown",
   "id": "6fc8b9ec-4184-43d1-befe-30b0de9a4520",
   "metadata": {},
   "source": [
    "# 2. Data filtering"
   ]
  },
  {
   "cell_type": "code",
   "execution_count": null,
   "id": "f1fc4a67-2890-4f28-9174-43533a95a74d",
   "metadata": {
    "tags": []
   },
   "outputs": [],
   "source": [
    "import polars as pl\n",
    "\n",
    "from kedro.config import ConfigLoader\n",
    "from kedro.io import DataCatalog"
   ]
  },
  {
   "cell_type": "code",
   "execution_count": null,
   "id": "20089716-613c-4408-a308-2cb83580c32f",
   "metadata": {
    "tags": []
   },
   "outputs": [],
   "source": [
    "conf_loader = ConfigLoader(\"conf\")\n",
    "conf_catalog = conf_loader.get(\"catalog.yml\")\n",
    "catalog = DataCatalog.from_config(conf_catalog)"
   ]
  },
  {
   "cell_type": "code",
   "execution_count": null,
   "id": "6e942d19-4fb9-46ea-9354-2f7893b44dba",
   "metadata": {
    "tags": []
   },
   "outputs": [],
   "source": [
    "df_full = catalog.load(\"labour_force_survey_2018_report\")\n",
    "df_full.head()"
   ]
  },
  {
   "cell_type": "code",
   "execution_count": null,
   "id": "74b4a409-f83b-40de-a875-b374e2aadad7",
   "metadata": {
    "tags": []
   },
   "outputs": [],
   "source": [
    "interesting_columns = [\n",
    "    \"HOUSEHOLD_ID\",\n",
    "    \"REGION\",\n",
    "    \"PERSON_NAME\",\n",
    "    \"RELATIONSHIP\",\n",
    "    \"AGE_YEARS\",\n",
    "    \"SEX\",\n",
    "    \"MARITAL_STATUS\",\n",
    "    \"BIRTH_PLACE_REGION\",\n",
    "    \"CITIZENSHIP_MAJOR\",\n",
    "    \"CITIZENSHIP_MINOR\",\n",
    "    \"SCHOOLING_STATUS\",\n",
    "    \"EMPLOYMENT_STATUS\",\n",
    "    \"EMPLOYER_TYPE\",\n",
    "    \"GROSS_INCOME_MONTH\",\n",
    "    \"ENT_NUM_EMPLOYEES\",\n",
    "]\n",
    "boolean_columns = [\n",
    "    \"DID_BUSINESS_YN\",\n",
    "    \"DID_SMALL_BUSINESS_YN\",\n",
    "    \"MORE_THAN_ONE_JOB\",\n",
    "    \"BELONG_TO_TRADE_UNION\",\n",
    "]"
   ]
  },
  {
   "cell_type": "code",
   "execution_count": null,
   "id": "329030b9-5a56-467d-81d1-ebdd4b846e05",
   "metadata": {
    "tags": []
   },
   "outputs": [],
   "source": [
    "df_filtered = df_full.select(interesting_columns + boolean_columns)\n",
    "df_filtered.head()"
   ]
  },
  {
   "cell_type": "code",
   "execution_count": null,
   "id": "eeb31c06-02ae-471d-8700-c759cb6822d9",
   "metadata": {
    "tags": []
   },
   "outputs": [],
   "source": [
    "df_cast = df_filtered.with_columns(\n",
    "    [\n",
    "        pl.col(\"GROSS_INCOME_MONTH\")\n",
    "        .map_dict(\n",
    "            {\"Refusal\": None, \"Dont know\": None}, default=pl.col(\"GROSS_INCOME_MONTH\")\n",
    "        )\n",
    "        .cast(pl.Float64)\n",
    "        .fill_nan(None),\n",
    "        pl.col(boolean_columns)\n",
    "        .map_dict({\"Yes\": True, \"No\": False, \"Dont know\": None})\n",
    "        .cast(pl.Boolean),\n",
    "    ]\n",
    ")\n",
    "df_cast.head()"
   ]
  },
  {
   "cell_type": "code",
   "execution_count": null,
   "id": "09a04471-85d6-46b7-8d2b-58b8744b8a29",
   "metadata": {
    "tags": []
   },
   "outputs": [],
   "source": [
    "catalog.save(\"labour_force_survey_2018_report_filtered\", df_cast)"
   ]
  },
  {
   "cell_type": "code",
   "execution_count": null,
   "id": "07c6029d-9609-42db-abdb-daf303f85b8c",
   "metadata": {},
   "outputs": [],
   "source": []
  }
 ],
 "metadata": {
  "kernelspec": {
   "display_name": "Python 3 (ipykernel)",
   "language": "python",
   "name": "python3"
  },
  "language_info": {
   "codemirror_mode": {
    "name": "ipython",
    "version": 3
   },
   "file_extension": ".py",
   "mimetype": "text/x-python",
   "name": "python",
   "nbconvert_exporter": "python",
   "pygments_lexer": "ipython3",
   "version": "3.10.9"
  }
 },
 "nbformat": 4,
 "nbformat_minor": 5
}
