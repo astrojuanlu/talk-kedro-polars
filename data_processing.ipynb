{
 "cells": [
  {
   "cell_type": "markdown",
   "metadata": {},
   "source": [
    "# 1. Data processing"
   ]
  },
  {
   "cell_type": "code",
   "execution_count": null,
   "metadata": {
    "pycharm": {
     "name": "#%%\n"
    },
    "tags": []
   },
   "outputs": [],
   "source": [
    "import pandas as pd\n",
    "import polars as pl\n",
    "\n",
    "from kedro.config import ConfigLoader\n",
    "from kedro.io import DataCatalog"
   ]
  },
  {
   "cell_type": "code",
   "execution_count": null,
   "metadata": {
    "tags": []
   },
   "outputs": [],
   "source": [
    "def preprocess_survey(survey):\n",
    "    # Some columns contain invalid values\n",
    "    # Quick and dirty fix\n",
    "    faulty_cols = [\n",
    "        \"BIRTH_PLACE_CONST\",\n",
    "        \"CITIZENSHIP_MINOR\",\n",
    "        \"MOVED_MONTH\",\n",
    "        \"MOVED_FROM_CONST\",\n",
    "        \"READ_AND_WRITE_2\",\n",
    "        \"HIGHEST_GRADE_MINOR\",\n",
    "        \"OCCUPATION_MINOR\",\n",
    "        \"SECTOR_MINOR\",\n",
    "        \"GROSS_INCOME_MONTH\",\n",
    "        \"EST_MONTLY_TURNOVER\",\n",
    "        \"SOUGHT_OCCUPATION_MINOR\",\n",
    "        \"PREVIOUS_OCCUPATION_MINOR\",\n",
    "        \"PREVIOUS_SECTOR_MINOR\",\n",
    "        \"HIGHEST_EDU_LEVEL\",\n",
    "    ]\n",
    "    for col_name in faulty_cols:\n",
    "        survey[col_name] = survey[col_name].astype(str)\n",
    "\n",
    "    return survey"
   ]
  },
  {
   "cell_type": "code",
   "execution_count": null,
   "metadata": {
    "pycharm": {
     "name": "#%%\n"
    },
    "tags": []
   },
   "outputs": [],
   "source": [
    "# Initialise a ConfigLoader\n",
    "conf_loader = ConfigLoader(\"conf\")\n",
    "conf_loader"
   ]
  },
  {
   "cell_type": "code",
   "execution_count": null,
   "metadata": {
    "pycharm": {
     "name": "#%%\n"
    },
    "tags": []
   },
   "outputs": [],
   "source": [
    "# Load the data catalog configuration from catalog.yml\n",
    "conf_catalog = conf_loader.get(\"catalog.yml\")\n",
    "conf_catalog"
   ]
  },
  {
   "cell_type": "code",
   "execution_count": null,
   "metadata": {
    "pycharm": {
     "name": "#%%\n"
    },
    "tags": []
   },
   "outputs": [],
   "source": [
    "# Create the DataCatalog instance from the configuration\n",
    "catalog = DataCatalog.from_config(conf_catalog)\n",
    "catalog"
   ]
  },
  {
   "cell_type": "code",
   "execution_count": null,
   "metadata": {
    "pycharm": {
     "name": "#%%\n"
    },
    "tags": []
   },
   "outputs": [],
   "source": [
    "# Load the dataset and print the output\n",
    "survey = catalog.load(\"labour_force_survey_2018_report_original\")\n",
    "survey.head()"
   ]
  },
  {
   "cell_type": "code",
   "execution_count": null,
   "metadata": {
    "tags": []
   },
   "outputs": [],
   "source": [
    "processed_survey = preprocess_survey(survey)\n",
    "processed_survey.head()"
   ]
  },
  {
   "cell_type": "code",
   "execution_count": null,
   "metadata": {
    "tags": []
   },
   "outputs": [],
   "source": [
    "final_df = pl.from_pandas(processed_survey)\n",
    "final_df.head()"
   ]
  },
  {
   "cell_type": "code",
   "execution_count": null,
   "metadata": {
    "tags": []
   },
   "outputs": [],
   "source": [
    "catalog.save(\"labour_force_survey_2018_report\", final_df)"
   ]
  },
  {
   "cell_type": "code",
   "execution_count": null,
   "metadata": {},
   "outputs": [],
   "source": []
  }
 ],
 "metadata": {
  "kernelspec": {
   "display_name": "Python 3 (ipykernel)",
   "language": "python",
   "name": "python3"
  },
  "language_info": {
   "codemirror_mode": {
    "name": "ipython",
    "version": 3
   },
   "file_extension": ".py",
   "mimetype": "text/x-python",
   "name": "python",
   "nbconvert_exporter": "python",
   "pygments_lexer": "ipython3",
   "version": "3.10.9"
  }
 },
 "nbformat": 4,
 "nbformat_minor": 4
}
