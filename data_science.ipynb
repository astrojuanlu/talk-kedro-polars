{
 "cells": [
  {
   "cell_type": "markdown",
   "id": "7a4b262e-d776-44ac-8540-44a7b128842e",
   "metadata": {},
   "source": [
    "# 3. Data Science"
   ]
  },
  {
   "cell_type": "code",
   "execution_count": null,
   "id": "6a8eb9b0-8f27-469b-8b7f-b02a4ae9221b",
   "metadata": {
    "tags": []
   },
   "outputs": [],
   "source": [
    "import polars as pl\n",
    "\n",
    "pl.Config.set_fmt_str_lengths(100)"
   ]
  },
  {
   "cell_type": "code",
   "execution_count": null,
   "id": "dc79433b-1209-413c-a0ab-d7e7ab7bb2a6",
   "metadata": {
    "tags": []
   },
   "outputs": [],
   "source": [
    "import matplotlib.pyplot as plt\n",
    "import seaborn as sns\n",
    "\n",
    "sns.set()"
   ]
  },
  {
   "cell_type": "code",
   "execution_count": null,
   "id": "31944732-fdbc-41c8-ac60-a3bece978cff",
   "metadata": {
    "tags": []
   },
   "outputs": [],
   "source": [
    "from kedro.config import ConfigLoader\n",
    "from kedro.io import DataCatalog"
   ]
  },
  {
   "cell_type": "code",
   "execution_count": null,
   "id": "bcf4b5be-ba76-4eb0-8d06-ad878c373d26",
   "metadata": {
    "tags": []
   },
   "outputs": [],
   "source": [
    "conf_loader = ConfigLoader(\"conf\")\n",
    "conf_catalog = conf_loader.get(\"catalog.yml\")\n",
    "catalog = DataCatalog.from_config(conf_catalog)"
   ]
  },
  {
   "cell_type": "code",
   "execution_count": null,
   "id": "faa3c9cc-a147-4d8d-bb42-0fe714543f04",
   "metadata": {
    "tags": []
   },
   "outputs": [],
   "source": [
    "df = catalog.load(\"labour_force_survey_2018_report_filtered\")\n",
    "df.head()"
   ]
  },
  {
   "cell_type": "code",
   "execution_count": null,
   "id": "89e46865-973f-4493-be13-0ae2e76594a5",
   "metadata": {
    "tags": []
   },
   "outputs": [],
   "source": [
    "(\n",
    "    df.groupby(\"SEX\").agg(\n",
    "        [\n",
    "            pl.col(\"AGE_YEARS\").median().alias(\"median_age\"),\n",
    "            pl.col(\"AGE_YEARS\").std().alias(\"std_age\"),\n",
    "        ]\n",
    "    )\n",
    ")"
   ]
  },
  {
   "cell_type": "code",
   "execution_count": null,
   "id": "f71ad6cb-9801-469e-87a5-55eed70b88ac",
   "metadata": {
    "tags": []
   },
   "outputs": [],
   "source": [
    "df[\"MARITAL_STATUS\"].value_counts()  # .sort(by=\"counts\", descending=True)"
   ]
  },
  {
   "cell_type": "code",
   "execution_count": null,
   "id": "80024fd5-4b49-47cd-a0cb-6bffbeefcb5e",
   "metadata": {
    "tags": []
   },
   "outputs": [],
   "source": [
    "(\n",
    "    df.groupby(\"SEX\").agg(\n",
    "        [\n",
    "            pl.col(\"GROSS_INCOME_MONTH\").mean(),\n",
    "            pl.col(\"BELONG_TO_TRADE_UNION\").mean(),\n",
    "            (pl.col(\"MORE_THAN_ONE_JOB\").mean() * 100.0).alias(\n",
    "                \"MORE_THAN_ONE_JOB_PCT (%)\"\n",
    "            ),\n",
    "        ]\n",
    "    )\n",
    ")"
   ]
  },
  {
   "cell_type": "code",
   "execution_count": null,
   "id": "10927aaa-7db2-4d68-86e8-0fc44f4b808f",
   "metadata": {
    "tags": []
   },
   "outputs": [],
   "source": [
    "(\n",
    "    df.drop_nulls(\"GROSS_INCOME_MONTH\")\n",
    "    .pivot(\n",
    "        index=\"MARITAL_STATUS\",\n",
    "        columns=\"SEX\",\n",
    "        values=\"GROSS_INCOME_MONTH\",\n",
    "        aggregate_function=\"mean\",\n",
    "    )\n",
    "    .select([pl.col(\"MARITAL_STATUS\"), pl.all().exclude(\"MARITAL_STATUS\").round(2)])\n",
    "    .with_columns((pl.col(\"Male\") / pl.col(\"Female\")).round(1).alias(\"Diff (x)\"))\n",
    ")"
   ]
  },
  {
   "cell_type": "code",
   "execution_count": null,
   "id": "7655f5f5-3073-40a2-ac46-baae88c0630b",
   "metadata": {
    "tags": []
   },
   "outputs": [],
   "source": [
    "import seaborn.objects as so"
   ]
  },
  {
   "cell_type": "code",
   "execution_count": null,
   "id": "f95b9458-5024-48f3-a7ba-c9d7be869230",
   "metadata": {},
   "outputs": [],
   "source": [
    "(\n",
    "    so.Plot(\n",
    "        data=df,\n",
    "        y=\"MARITAL_STATUS\",\n",
    "        x=\"GROSS_INCOME_MONTH\",\n",
    "        color=\"SEX\",\n",
    "        pointsize=\"AGE_YEARS\",\n",
    "    ).add(so.Dots(), so.Dodge(), so.Jitter(0.3))\n",
    ")"
   ]
  },
  {
   "cell_type": "code",
   "execution_count": null,
   "id": "9414769a-0f77-48d6-b429-53872dd42fc0",
   "metadata": {},
   "outputs": [],
   "source": []
  }
 ],
 "metadata": {
  "kernelspec": {
   "display_name": "Python 3 (ipykernel)",
   "language": "python",
   "name": "python3"
  },
  "language_info": {
   "codemirror_mode": {
    "name": "ipython",
    "version": 3
   },
   "file_extension": ".py",
   "mimetype": "text/x-python",
   "name": "python",
   "nbconvert_exporter": "python",
   "pygments_lexer": "ipython3",
   "version": "3.10.9"
  }
 },
 "nbformat": 4,
 "nbformat_minor": 5
}
